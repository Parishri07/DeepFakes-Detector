{
 "cells": [
  {
   "cell_type": "code",
   "execution_count": 1,
   "id": "75a4866d",
   "metadata": {
    "execution": {
     "iopub.execute_input": "2024-03-01T16:39:09.721569Z",
     "iopub.status.busy": "2024-03-01T16:39:09.721236Z",
     "iopub.status.idle": "2024-03-01T16:39:24.423377Z",
     "shell.execute_reply": "2024-03-01T16:39:24.422565Z"
    },
    "papermill": {
     "duration": 14.715418,
     "end_time": "2024-03-01T16:39:24.425760",
     "exception": false,
     "start_time": "2024-03-01T16:39:09.710342",
     "status": "completed"
    },
    "tags": []
   },
   "outputs": [
    {
     "name": "stderr",
     "output_type": "stream",
     "text": [
      "/opt/conda/lib/python3.10/site-packages/scipy/__init__.py:146: UserWarning: A NumPy version >=1.16.5 and <1.23.0 is required for this version of SciPy (detected version 1.24.3\n",
      "  warnings.warn(f\"A NumPy version >={np_minversion} and <{np_maxversion}\"\n"
     ]
    }
   ],
   "source": [
    "import json\n",
    "import numpy as np\n",
    "from sklearn.model_selection import train_test_split\n",
    "import tensorflow.keras as keras\n",
    "import matplotlib.pyplot as plt\n",
    "import librosa\n",
    "import os\n",
    "import math\n",
    "import shutil\n",
    "import pandas as pd"
   ]
  },
  {
   "cell_type": "code",
   "execution_count": 2,
   "id": "f16f0177",
   "metadata": {
    "execution": {
     "iopub.execute_input": "2024-03-01T16:39:24.440556Z",
     "iopub.status.busy": "2024-03-01T16:39:24.440029Z",
     "iopub.status.idle": "2024-03-01T16:39:24.444321Z",
     "shell.execute_reply": "2024-03-01T16:39:24.443568Z"
    },
    "papermill": {
     "duration": 0.013614,
     "end_time": "2024-03-01T16:39:24.446135",
     "exception": false,
     "start_time": "2024-03-01T16:39:24.432521",
     "status": "completed"
    },
    "tags": []
   },
   "outputs": [],
   "source": [
    "BASE_PATH = '/kaggle/input/asvpoof-2019-dataset/LA/LA'"
   ]
  },
  {
   "cell_type": "code",
   "execution_count": 3,
   "id": "042c370f",
   "metadata": {
    "execution": {
     "iopub.execute_input": "2024-03-01T16:39:24.459569Z",
     "iopub.status.busy": "2024-03-01T16:39:24.459296Z",
     "iopub.status.idle": "2024-03-01T16:39:24.527259Z",
     "shell.execute_reply": "2024-03-01T16:39:24.526523Z"
    },
    "papermill": {
     "duration": 0.077265,
     "end_time": "2024-03-01T16:39:24.529621",
     "exception": false,
     "start_time": "2024-03-01T16:39:24.452356",
     "status": "completed"
    },
    "tags": []
   },
   "outputs": [],
   "source": [
    "train_df = pd.read_csv(f'{BASE_PATH}/ASVspoof2019_LA_cm_protocols/ASVspoof2019.LA.cm.train.trn.txt',\n",
    "                       sep=\" \", header=None)"
   ]
  },
  {
   "cell_type": "code",
   "execution_count": 4,
   "id": "0235de3a",
   "metadata": {
    "execution": {
     "iopub.execute_input": "2024-03-01T16:39:24.544036Z",
     "iopub.status.busy": "2024-03-01T16:39:24.543719Z",
     "iopub.status.idle": "2024-03-01T16:39:24.564245Z",
     "shell.execute_reply": "2024-03-01T16:39:24.563427Z"
    },
    "papermill": {
     "duration": 0.029649,
     "end_time": "2024-03-01T16:39:24.566062",
     "exception": false,
     "start_time": "2024-03-01T16:39:24.536413",
     "status": "completed"
    },
    "tags": []
   },
   "outputs": [
    {
     "data": {
      "text/html": [
       "<div>\n",
       "<style scoped>\n",
       "    .dataframe tbody tr th:only-of-type {\n",
       "        vertical-align: middle;\n",
       "    }\n",
       "\n",
       "    .dataframe tbody tr th {\n",
       "        vertical-align: top;\n",
       "    }\n",
       "\n",
       "    .dataframe thead th {\n",
       "        text-align: right;\n",
       "    }\n",
       "</style>\n",
       "<table border=\"1\" class=\"dataframe\">\n",
       "  <thead>\n",
       "    <tr style=\"text-align: right;\">\n",
       "      <th></th>\n",
       "      <th>0</th>\n",
       "      <th>1</th>\n",
       "      <th>2</th>\n",
       "      <th>3</th>\n",
       "      <th>4</th>\n",
       "    </tr>\n",
       "  </thead>\n",
       "  <tbody>\n",
       "    <tr>\n",
       "      <th>0</th>\n",
       "      <td>LA_0079</td>\n",
       "      <td>LA_T_1138215</td>\n",
       "      <td>-</td>\n",
       "      <td>-</td>\n",
       "      <td>bonafide</td>\n",
       "    </tr>\n",
       "    <tr>\n",
       "      <th>1</th>\n",
       "      <td>LA_0079</td>\n",
       "      <td>LA_T_1271820</td>\n",
       "      <td>-</td>\n",
       "      <td>-</td>\n",
       "      <td>bonafide</td>\n",
       "    </tr>\n",
       "    <tr>\n",
       "      <th>2</th>\n",
       "      <td>LA_0079</td>\n",
       "      <td>LA_T_1272637</td>\n",
       "      <td>-</td>\n",
       "      <td>-</td>\n",
       "      <td>bonafide</td>\n",
       "    </tr>\n",
       "    <tr>\n",
       "      <th>3</th>\n",
       "      <td>LA_0079</td>\n",
       "      <td>LA_T_1276960</td>\n",
       "      <td>-</td>\n",
       "      <td>-</td>\n",
       "      <td>bonafide</td>\n",
       "    </tr>\n",
       "    <tr>\n",
       "      <th>4</th>\n",
       "      <td>LA_0079</td>\n",
       "      <td>LA_T_1341447</td>\n",
       "      <td>-</td>\n",
       "      <td>-</td>\n",
       "      <td>bonafide</td>\n",
       "    </tr>\n",
       "  </tbody>\n",
       "</table>\n",
       "</div>"
      ],
      "text/plain": [
       "         0             1  2  3         4\n",
       "0  LA_0079  LA_T_1138215  -  -  bonafide\n",
       "1  LA_0079  LA_T_1271820  -  -  bonafide\n",
       "2  LA_0079  LA_T_1272637  -  -  bonafide\n",
       "3  LA_0079  LA_T_1276960  -  -  bonafide\n",
       "4  LA_0079  LA_T_1341447  -  -  bonafide"
      ]
     },
     "execution_count": 4,
     "metadata": {},
     "output_type": "execute_result"
    }
   ],
   "source": [
    "train_df.head(5)"
   ]
  },
  {
   "cell_type": "code",
   "execution_count": 5,
   "id": "8f400186",
   "metadata": {
    "execution": {
     "iopub.execute_input": "2024-03-01T16:39:24.580308Z",
     "iopub.status.busy": "2024-03-01T16:39:24.580038Z",
     "iopub.status.idle": "2024-03-01T16:39:24.598729Z",
     "shell.execute_reply": "2024-03-01T16:39:24.597916Z"
    },
    "papermill": {
     "duration": 0.028129,
     "end_time": "2024-03-01T16:39:24.600860",
     "exception": false,
     "start_time": "2024-03-01T16:39:24.572731",
     "status": "completed"
    },
    "tags": []
   },
   "outputs": [
    {
     "data": {
      "text/html": [
       "<div>\n",
       "<style scoped>\n",
       "    .dataframe tbody tr th:only-of-type {\n",
       "        vertical-align: middle;\n",
       "    }\n",
       "\n",
       "    .dataframe tbody tr th {\n",
       "        vertical-align: top;\n",
       "    }\n",
       "\n",
       "    .dataframe thead th {\n",
       "        text-align: right;\n",
       "    }\n",
       "</style>\n",
       "<table border=\"1\" class=\"dataframe\">\n",
       "  <thead>\n",
       "    <tr style=\"text-align: right;\">\n",
       "      <th></th>\n",
       "      <th>speaker_id</th>\n",
       "      <th>filename</th>\n",
       "      <th>system_id</th>\n",
       "      <th>class_name</th>\n",
       "    </tr>\n",
       "  </thead>\n",
       "  <tbody>\n",
       "    <tr>\n",
       "      <th>0</th>\n",
       "      <td>LA_0079</td>\n",
       "      <td>LA_T_1138215</td>\n",
       "      <td>-</td>\n",
       "      <td>bonafide</td>\n",
       "    </tr>\n",
       "    <tr>\n",
       "      <th>1</th>\n",
       "      <td>LA_0079</td>\n",
       "      <td>LA_T_1271820</td>\n",
       "      <td>-</td>\n",
       "      <td>bonafide</td>\n",
       "    </tr>\n",
       "    <tr>\n",
       "      <th>2</th>\n",
       "      <td>LA_0079</td>\n",
       "      <td>LA_T_1272637</td>\n",
       "      <td>-</td>\n",
       "      <td>bonafide</td>\n",
       "    </tr>\n",
       "    <tr>\n",
       "      <th>3</th>\n",
       "      <td>LA_0079</td>\n",
       "      <td>LA_T_1276960</td>\n",
       "      <td>-</td>\n",
       "      <td>bonafide</td>\n",
       "    </tr>\n",
       "    <tr>\n",
       "      <th>4</th>\n",
       "      <td>LA_0079</td>\n",
       "      <td>LA_T_1341447</td>\n",
       "      <td>-</td>\n",
       "      <td>bonafide</td>\n",
       "    </tr>\n",
       "  </tbody>\n",
       "</table>\n",
       "</div>"
      ],
      "text/plain": [
       "  speaker_id      filename system_id class_name\n",
       "0    LA_0079  LA_T_1138215         -   bonafide\n",
       "1    LA_0079  LA_T_1271820         -   bonafide\n",
       "2    LA_0079  LA_T_1272637         -   bonafide\n",
       "3    LA_0079  LA_T_1276960         -   bonafide\n",
       "4    LA_0079  LA_T_1341447         -   bonafide"
      ]
     },
     "execution_count": 5,
     "metadata": {},
     "output_type": "execute_result"
    }
   ],
   "source": [
    "train_df.columns =['speaker_id','filename','system_id','null','class_name']\n",
    "train_df.drop(columns=['null'],inplace=True)\n",
    "train_df.head(5)"
   ]
  },
  {
   "cell_type": "code",
   "execution_count": 6,
   "id": "b34ae0a0",
   "metadata": {
    "execution": {
     "iopub.execute_input": "2024-03-01T16:39:24.615963Z",
     "iopub.status.busy": "2024-03-01T16:39:24.615667Z",
     "iopub.status.idle": "2024-03-01T16:39:24.643514Z",
     "shell.execute_reply": "2024-03-01T16:39:24.642491Z"
    },
    "papermill": {
     "duration": 0.037714,
     "end_time": "2024-03-01T16:39:24.645704",
     "exception": false,
     "start_time": "2024-03-01T16:39:24.607990",
     "status": "completed"
    },
    "tags": []
   },
   "outputs": [
    {
     "name": "stdout",
     "output_type": "stream",
     "text": [
      "len Train 25380\n"
     ]
    },
    {
     "data": {
      "text/html": [
       "<div>\n",
       "<style scoped>\n",
       "    .dataframe tbody tr th:only-of-type {\n",
       "        vertical-align: middle;\n",
       "    }\n",
       "\n",
       "    .dataframe tbody tr th {\n",
       "        vertical-align: top;\n",
       "    }\n",
       "\n",
       "    .dataframe thead th {\n",
       "        text-align: right;\n",
       "    }\n",
       "</style>\n",
       "<table border=\"1\" class=\"dataframe\">\n",
       "  <thead>\n",
       "    <tr style=\"text-align: right;\">\n",
       "      <th></th>\n",
       "      <th>speaker_id</th>\n",
       "      <th>filename</th>\n",
       "      <th>system_id</th>\n",
       "      <th>class_name</th>\n",
       "      <th>filepath</th>\n",
       "      <th>target</th>\n",
       "    </tr>\n",
       "  </thead>\n",
       "  <tbody>\n",
       "    <tr>\n",
       "      <th>0</th>\n",
       "      <td>LA_0079</td>\n",
       "      <td>LA_T_1138215</td>\n",
       "      <td>-</td>\n",
       "      <td>bonafide</td>\n",
       "      <td>/kaggle/input/asvpoof-2019-dataset/LA/LA/ASVsp...</td>\n",
       "      <td>0</td>\n",
       "    </tr>\n",
       "    <tr>\n",
       "      <th>1</th>\n",
       "      <td>LA_0079</td>\n",
       "      <td>LA_T_1271820</td>\n",
       "      <td>-</td>\n",
       "      <td>bonafide</td>\n",
       "      <td>/kaggle/input/asvpoof-2019-dataset/LA/LA/ASVsp...</td>\n",
       "      <td>0</td>\n",
       "    </tr>\n",
       "    <tr>\n",
       "      <th>2</th>\n",
       "      <td>LA_0079</td>\n",
       "      <td>LA_T_1272637</td>\n",
       "      <td>-</td>\n",
       "      <td>bonafide</td>\n",
       "      <td>/kaggle/input/asvpoof-2019-dataset/LA/LA/ASVsp...</td>\n",
       "      <td>0</td>\n",
       "    </tr>\n",
       "    <tr>\n",
       "      <th>3</th>\n",
       "      <td>LA_0079</td>\n",
       "      <td>LA_T_1276960</td>\n",
       "      <td>-</td>\n",
       "      <td>bonafide</td>\n",
       "      <td>/kaggle/input/asvpoof-2019-dataset/LA/LA/ASVsp...</td>\n",
       "      <td>0</td>\n",
       "    </tr>\n",
       "    <tr>\n",
       "      <th>4</th>\n",
       "      <td>LA_0079</td>\n",
       "      <td>LA_T_1341447</td>\n",
       "      <td>-</td>\n",
       "      <td>bonafide</td>\n",
       "      <td>/kaggle/input/asvpoof-2019-dataset/LA/LA/ASVsp...</td>\n",
       "      <td>0</td>\n",
       "    </tr>\n",
       "  </tbody>\n",
       "</table>\n",
       "</div>"
      ],
      "text/plain": [
       "  speaker_id      filename system_id class_name  \\\n",
       "0    LA_0079  LA_T_1138215         -   bonafide   \n",
       "1    LA_0079  LA_T_1271820         -   bonafide   \n",
       "2    LA_0079  LA_T_1272637         -   bonafide   \n",
       "3    LA_0079  LA_T_1276960         -   bonafide   \n",
       "4    LA_0079  LA_T_1341447         -   bonafide   \n",
       "\n",
       "                                            filepath  target  \n",
       "0  /kaggle/input/asvpoof-2019-dataset/LA/LA/ASVsp...       0  \n",
       "1  /kaggle/input/asvpoof-2019-dataset/LA/LA/ASVsp...       0  \n",
       "2  /kaggle/input/asvpoof-2019-dataset/LA/LA/ASVsp...       0  \n",
       "3  /kaggle/input/asvpoof-2019-dataset/LA/LA/ASVsp...       0  \n",
       "4  /kaggle/input/asvpoof-2019-dataset/LA/LA/ASVsp...       0  "
      ]
     },
     "execution_count": 6,
     "metadata": {},
     "output_type": "execute_result"
    }
   ],
   "source": [
    "train_df['filepath'] = f'{BASE_PATH}/ASVspoof2019_LA_train/flac/'+train_df.filename+'.flac'\n",
    "train_df['target'] = (train_df.class_name=='spoof').astype('int32')\n",
    "print('len Train', len(train_df))\n",
    "train_df.head(5)"
   ]
  },
  {
   "cell_type": "code",
   "execution_count": 7,
   "id": "ab4cd276",
   "metadata": {
    "execution": {
     "iopub.execute_input": "2024-03-01T16:39:24.662104Z",
     "iopub.status.busy": "2024-03-01T16:39:24.661850Z",
     "iopub.status.idle": "2024-03-01T16:43:37.160876Z",
     "shell.execute_reply": "2024-03-01T16:43:37.159947Z"
    },
    "papermill": {
     "duration": 252.516264,
     "end_time": "2024-03-01T16:43:37.169712",
     "exception": false,
     "start_time": "2024-03-01T16:39:24.653448",
     "status": "completed"
    },
    "tags": []
   },
   "outputs": [
    {
     "name": "stdout",
     "output_type": "stream",
     "text": [
      "0 Klasöründe 2580 dosya var.\n",
      "1 Klasöründe 22800 dosya var.\n"
     ]
    }
   ],
   "source": [
    "import os\n",
    "import shutil\n",
    "\n",
    "# Önceden oluşturulmuş klasörleri kontrol et ve gerekiyorsa oluştur\n",
    "output_folder_0 = './0'  # Klasör adı 0\n",
    "output_folder_1 = './1'  # Klasör adı 1\n",
    "\n",
    "if not os.path.exists(output_folder_0):\n",
    "    os.makedirs(output_folder_0)\n",
    "\n",
    "if not os.path.exists(output_folder_1):\n",
    "    os.makedirs(output_folder_1)\n",
    "\n",
    "# Train veri çerçevesini dön ve dosyaları ilgili klasörlere kopyala\n",
    "for index, row in train_df.iterrows():\n",
    "    source_filepath = row['filepath']\n",
    "    target_folder = f'./{row[\"target\"]}'\n",
    "    target_filepath = os.path.join(target_folder, os.path.basename(source_filepath))\n",
    "\n",
    "    # Hedef klasörü kontrol et ve gerekiyorsa oluştur\n",
    "    if not os.path.exists(target_folder):\n",
    "        os.makedirs(target_folder)\n",
    "\n",
    "    # Dosyayı hedef klasöre kopyala\n",
    "    shutil.copy(source_filepath, target_filepath)\n",
    "\n",
    "# İşlem tamamlandıktan sonra oluşturulan klasörleri kontrol etmek için kullanabilirsiniz\n",
    "print(f'0 Klasöründe {len(os.listdir(output_folder_0))} dosya var.')\n",
    "print(f'1 Klasöründe {len(os.listdir(output_folder_1))} dosya var.')\n"
   ]
  },
  {
   "cell_type": "code",
   "execution_count": 8,
   "id": "19fecf2b",
   "metadata": {
    "execution": {
     "iopub.execute_input": "2024-03-01T16:43:37.186630Z",
     "iopub.status.busy": "2024-03-01T16:43:37.186313Z",
     "iopub.status.idle": "2024-03-01T16:43:37.193098Z",
     "shell.execute_reply": "2024-03-01T16:43:37.192207Z"
    },
    "papermill": {
     "duration": 0.017934,
     "end_time": "2024-03-01T16:43:37.194989",
     "exception": false,
     "start_time": "2024-03-01T16:43:37.177055",
     "status": "completed"
    },
    "tags": []
   },
   "outputs": [
    {
     "name": "stdout",
     "output_type": "stream",
     "text": [
      "Klasörde toplam 2580 dosya var.\n"
     ]
    }
   ],
   "source": [
    "folder_path = './0' \n",
    "\n",
    "files = os.listdir(folder_path)\n",
    "\n",
    "total_files = len(files)\n",
    "\n",
    "print(f\"Klasörde toplam {total_files} dosya var.\")\n"
   ]
  },
  {
   "cell_type": "code",
   "execution_count": 9,
   "id": "2f085554",
   "metadata": {
    "execution": {
     "iopub.execute_input": "2024-03-01T16:43:37.210359Z",
     "iopub.status.busy": "2024-03-01T16:43:37.210078Z",
     "iopub.status.idle": "2024-03-01T16:43:37.229116Z",
     "shell.execute_reply": "2024-03-01T16:43:37.228189Z"
    },
    "papermill": {
     "duration": 0.028781,
     "end_time": "2024-03-01T16:43:37.230981",
     "exception": false,
     "start_time": "2024-03-01T16:43:37.202200",
     "status": "completed"
    },
    "tags": []
   },
   "outputs": [
    {
     "name": "stdout",
     "output_type": "stream",
     "text": [
      "Klasörde toplam 22800 dosya var.\n"
     ]
    }
   ],
   "source": [
    "import os\n",
    "\n",
    "\n",
    "folder_path = './1'  # Değiştirmeniz gereken klasör yolu\n",
    "\n",
    "files = os.listdir(folder_path)\n",
    "\n",
    "total_files = len(files)\n",
    "\n",
    "print(f\"Klasörde toplam {total_files} dosya var.\")\n"
   ]
  },
  {
   "cell_type": "code",
   "execution_count": 10,
   "id": "350187ac",
   "metadata": {
    "execution": {
     "iopub.execute_input": "2024-03-01T16:43:37.247001Z",
     "iopub.status.busy": "2024-03-01T16:43:37.246733Z",
     "iopub.status.idle": "2024-03-01T16:43:37.315587Z",
     "shell.execute_reply": "2024-03-01T16:43:37.314906Z"
    },
    "papermill": {
     "duration": 0.078813,
     "end_time": "2024-03-01T16:43:37.317564",
     "exception": false,
     "start_time": "2024-03-01T16:43:37.238751",
     "status": "completed"
    },
    "tags": []
   },
   "outputs": [],
   "source": [
    "import random\n",
    "\n",
    "folder_path = './0'  # Değiştirmeniz gereken klasör yolu\n",
    "\n",
    "files = os.listdir(folder_path)\n",
    "\n",
    "total_files = len(files)\n",
    "\n",
    "# Silinecek dosya sayısı\n",
    "num_files_to_delete = 1580\n",
    "\n",
    "files_to_delete = random.sample(files, min(num_files_to_delete, total_files))\n",
    "\n",
    "for file_name in files_to_delete:\n",
    "    file_path = os.path.join(folder_path, file_name)\n",
    "    try:\n",
    "        os.remove(file_path)\n",
    "#         print(f\"{file_name} dosyası silindi.\")\n",
    "    except Exception as e:\n",
    "        print(f\"Hata silinirken: {e}\")\n",
    "\n",
    "remaining_files = os.listdir(folder_path)\n",
    "# print(f\"Klasörde kalan toplam {len(remaining_files)} dosya var.\")"
   ]
  },
  {
   "cell_type": "code",
   "execution_count": 11,
   "id": "ced3d668",
   "metadata": {
    "execution": {
     "iopub.execute_input": "2024-03-01T16:43:37.334085Z",
     "iopub.status.busy": "2024-03-01T16:43:37.333540Z",
     "iopub.status.idle": "2024-03-01T16:43:38.209486Z",
     "shell.execute_reply": "2024-03-01T16:43:38.208484Z"
    },
    "papermill": {
     "duration": 0.886768,
     "end_time": "2024-03-01T16:43:38.212034",
     "exception": false,
     "start_time": "2024-03-01T16:43:37.325266",
     "status": "completed"
    },
    "tags": []
   },
   "outputs": [],
   "source": [
    "import random\n",
    "\n",
    "folder_path = './1' \n",
    "\n",
    "files = os.listdir(folder_path)\n",
    "\n",
    "total_files = len(files)\n",
    "\n",
    "# Silinecek dosya sayısı\n",
    "num_files_to_delete = 21800\n",
    "\n",
    "files_to_delete = random.sample(files, min(num_files_to_delete, total_files))\n",
    "\n",
    "for file_name in files_to_delete:\n",
    "    file_path = os.path.join(folder_path, file_name)\n",
    "    os.remove(file_path)"
   ]
  },
  {
   "cell_type": "code",
   "execution_count": 12,
   "id": "e0ba276d",
   "metadata": {
    "execution": {
     "iopub.execute_input": "2024-03-01T16:43:38.228826Z",
     "iopub.status.busy": "2024-03-01T16:43:38.228497Z",
     "iopub.status.idle": "2024-03-01T16:43:38.297710Z",
     "shell.execute_reply": "2024-03-01T16:43:38.296740Z"
    },
    "papermill": {
     "duration": 0.080107,
     "end_time": "2024-03-01T16:43:38.299961",
     "exception": false,
     "start_time": "2024-03-01T16:43:38.219854",
     "status": "completed"
    },
    "tags": []
   },
   "outputs": [],
   "source": [
    "import os\n",
    "import shutil\n",
    "\n",
    "source_folders = ['0', '1']\n",
    "\n",
    "# Hedef klasörün adı\n",
    "target_folder = 'audio'\n",
    "\n",
    "if not os.path.exists(target_folder):\n",
    "    os.makedirs(target_folder)\n",
    "\n",
    "for source_folder in source_folders:\n",
    "    source_folder_path = os.path.join('.', source_folder)\n",
    "    target_folder_path = os.path.join(target_folder, source_folder)\n",
    "\n",
    "    # Kaynak klasörü var mı diye kontrol et\n",
    "    if os.path.exists(source_folder_path):\n",
    "        # Hedef klasörü oluştur\n",
    "        if not os.path.exists(target_folder_path):\n",
    "            os.makedirs(target_folder_path)\n",
    "\n",
    "        # Kaynak klasöründeki dosyaları hedef klasöre taşı\n",
    "        for file_name in os.listdir(source_folder_path):\n",
    "            source_file_path = os.path.join(source_folder_path, file_name)\n",
    "            target_file_path = os.path.join(target_folder_path, file_name)\n",
    "            shutil.move(source_file_path, target_file_path)\n",
    "\n",
    "# print(f\"İşlem tamamlandı. '{target_folder}' klasöründe şu dosyalar var:\")\n",
    "# print(os.listdir(target_folder))\n"
   ]
  },
  {
   "cell_type": "code",
   "execution_count": 13,
   "id": "1714e102",
   "metadata": {
    "execution": {
     "iopub.execute_input": "2024-03-01T16:43:38.316375Z",
     "iopub.status.busy": "2024-03-01T16:43:38.316076Z",
     "iopub.status.idle": "2024-03-01T16:43:38.320198Z",
     "shell.execute_reply": "2024-03-01T16:43:38.319436Z"
    },
    "papermill": {
     "duration": 0.014086,
     "end_time": "2024-03-01T16:43:38.321961",
     "exception": false,
     "start_time": "2024-03-01T16:43:38.307875",
     "status": "completed"
    },
    "tags": []
   },
   "outputs": [],
   "source": [
    "DATASET_PATH = \"/kaggle/working/audio\"\n",
    "JSON_PATH = \"data.json\"\n",
    "SAMPLE_RATE = 22050\n",
    "TRACK_DURATION = 30 \n",
    "SAMPLES_PER_TRACK = SAMPLE_RATE * TRACK_DURATION"
   ]
  },
  {
   "cell_type": "code",
   "execution_count": 14,
   "id": "cef0b6c8",
   "metadata": {
    "execution": {
     "iopub.execute_input": "2024-03-01T16:43:38.337994Z",
     "iopub.status.busy": "2024-03-01T16:43:38.337454Z",
     "iopub.status.idle": "2024-03-01T16:43:38.347837Z",
     "shell.execute_reply": "2024-03-01T16:43:38.346986Z"
    },
    "papermill": {
     "duration": 0.020247,
     "end_time": "2024-03-01T16:43:38.349663",
     "exception": false,
     "start_time": "2024-03-01T16:43:38.329416",
     "status": "completed"
    },
    "tags": []
   },
   "outputs": [],
   "source": [
    "def save_mfcc(dataset_path, json_path, num_mfcc=13, n_fft=2048, hop_length=512, num_segments=5):\n",
    "\n",
    "    \n",
    "    data = {\n",
    "        \"mapping\": [],\n",
    "        \"labels\": [],\n",
    "        \"mfcc\": []\n",
    "    }\n",
    "\n",
    "    samples_per_segment = int(SAMPLES_PER_TRACK / num_segments)\n",
    "    num_mfcc_vectors_per_segment = math.ceil(samples_per_segment / hop_length)\n",
    "\n",
    "    \n",
    "    for i, (dirpath, dirnames, filenames) in enumerate(os.walk(dataset_path)):\n",
    "\n",
    "        \n",
    "        if dirpath is not dataset_path:\n",
    "\n",
    "            \n",
    "            semantic_label = dirpath.split(\"/\")[-1]\n",
    "            data[\"mapping\"].append(semantic_label)\n",
    "            \n",
    "            for f in filenames:\n",
    "\n",
    "                file_path = os.path.join(dirpath, f)\n",
    "                signal, sample_rate = librosa.load(file_path, sr=SAMPLE_RATE)\n",
    "\n",
    "                \n",
    "                for d in range(num_segments):\n",
    "\n",
    "                    \n",
    "                    start = samples_per_segment * d\n",
    "                    finish = start + samples_per_segment\n",
    "\n",
    "                    # mfcc çıkar\n",
    "                    mfcc = librosa.feature.mfcc(y=signal[start:finish], sr=sample_rate, n_mfcc=num_mfcc, n_fft=n_fft, hop_length=hop_length)\n",
    "                    mfcc = mfcc.T\n",
    "\n",
    "                    \n",
    "                    if len(mfcc) == num_mfcc_vectors_per_segment:\n",
    "                        data[\"mfcc\"].append(mfcc.tolist())\n",
    "                        data[\"labels\"].append(i-1)\n",
    "\n",
    "    #  MFCCs leri json olarak kaydet\n",
    "    with open(json_path, \"w\") as fp:\n",
    "        json.dump(data, fp, indent=4)\n",
    "\n",
    "\n"
   ]
  },
  {
   "cell_type": "code",
   "execution_count": 15,
   "id": "076555e1",
   "metadata": {
    "execution": {
     "iopub.execute_input": "2024-03-01T16:43:38.365142Z",
     "iopub.status.busy": "2024-03-01T16:43:38.364867Z",
     "iopub.status.idle": "2024-03-01T16:47:08.566785Z",
     "shell.execute_reply": "2024-03-01T16:47:08.565882Z"
    },
    "papermill": {
     "duration": 210.21246,
     "end_time": "2024-03-01T16:47:08.569271",
     "exception": false,
     "start_time": "2024-03-01T16:43:38.356811",
     "status": "completed"
    },
    "tags": []
   },
   "outputs": [
    {
     "name": "stderr",
     "output_type": "stream",
     "text": [
      "/opt/conda/lib/python3.10/site-packages/librosa/core/spectrum.py:257: UserWarning: n_fft=2048 is too large for input signal of length=0\n",
      "  warnings.warn(\n",
      "/opt/conda/lib/python3.10/site-packages/librosa/core/spectrum.py:257: UserWarning: n_fft=2048 is too large for input signal of length=1381\n",
      "  warnings.warn(\n",
      "/opt/conda/lib/python3.10/site-packages/librosa/core/spectrum.py:257: UserWarning: n_fft=2048 is too large for input signal of length=1603\n",
      "  warnings.warn(\n",
      "/opt/conda/lib/python3.10/site-packages/librosa/core/spectrum.py:257: UserWarning: n_fft=2048 is too large for input signal of length=588\n",
      "  warnings.warn(\n",
      "/opt/conda/lib/python3.10/site-packages/librosa/core/spectrum.py:257: UserWarning: n_fft=2048 is too large for input signal of length=293\n",
      "  warnings.warn(\n",
      "/opt/conda/lib/python3.10/site-packages/librosa/core/spectrum.py:257: UserWarning: n_fft=2048 is too large for input signal of length=943\n",
      "  warnings.warn(\n",
      "/opt/conda/lib/python3.10/site-packages/librosa/core/spectrum.py:257: UserWarning: n_fft=2048 is too large for input signal of length=837\n",
      "  warnings.warn(\n",
      "/opt/conda/lib/python3.10/site-packages/librosa/core/spectrum.py:257: UserWarning: n_fft=2048 is too large for input signal of length=632\n",
      "  warnings.warn(\n",
      "/opt/conda/lib/python3.10/site-packages/librosa/core/spectrum.py:257: UserWarning: n_fft=2048 is too large for input signal of length=1555\n",
      "  warnings.warn(\n",
      "/opt/conda/lib/python3.10/site-packages/librosa/core/spectrum.py:257: UserWarning: n_fft=2048 is too large for input signal of length=670\n",
      "  warnings.warn(\n",
      "/opt/conda/lib/python3.10/site-packages/librosa/core/spectrum.py:257: UserWarning: n_fft=2048 is too large for input signal of length=752\n",
      "  warnings.warn(\n",
      "/opt/conda/lib/python3.10/site-packages/librosa/core/spectrum.py:257: UserWarning: n_fft=2048 is too large for input signal of length=917\n",
      "  warnings.warn(\n",
      "/opt/conda/lib/python3.10/site-packages/librosa/core/spectrum.py:257: UserWarning: n_fft=2048 is too large for input signal of length=734\n",
      "  warnings.warn(\n",
      "/opt/conda/lib/python3.10/site-packages/librosa/core/spectrum.py:257: UserWarning: n_fft=2048 is too large for input signal of length=1654\n",
      "  warnings.warn(\n",
      "/opt/conda/lib/python3.10/site-packages/librosa/core/spectrum.py:257: UserWarning: n_fft=2048 is too large for input signal of length=425\n",
      "  warnings.warn(\n",
      "/opt/conda/lib/python3.10/site-packages/librosa/core/spectrum.py:257: UserWarning: n_fft=2048 is too large for input signal of length=13\n",
      "  warnings.warn(\n",
      "/opt/conda/lib/python3.10/site-packages/librosa/core/spectrum.py:257: UserWarning: n_fft=2048 is too large for input signal of length=1380\n",
      "  warnings.warn(\n",
      "/opt/conda/lib/python3.10/site-packages/librosa/core/spectrum.py:257: UserWarning: n_fft=2048 is too large for input signal of length=1991\n",
      "  warnings.warn(\n",
      "/opt/conda/lib/python3.10/site-packages/librosa/core/spectrum.py:257: UserWarning: n_fft=2048 is too large for input signal of length=50\n",
      "  warnings.warn(\n",
      "/opt/conda/lib/python3.10/site-packages/librosa/core/spectrum.py:257: UserWarning: n_fft=2048 is too large for input signal of length=586\n",
      "  warnings.warn(\n",
      "/opt/conda/lib/python3.10/site-packages/librosa/core/spectrum.py:257: UserWarning: n_fft=2048 is too large for input signal of length=1587\n",
      "  warnings.warn(\n",
      "/opt/conda/lib/python3.10/site-packages/librosa/core/spectrum.py:257: UserWarning: n_fft=2048 is too large for input signal of length=1496\n",
      "  warnings.warn(\n",
      "/opt/conda/lib/python3.10/site-packages/librosa/core/spectrum.py:257: UserWarning: n_fft=2048 is too large for input signal of length=847\n",
      "  warnings.warn(\n",
      "/opt/conda/lib/python3.10/site-packages/librosa/core/spectrum.py:257: UserWarning: n_fft=2048 is too large for input signal of length=1686\n",
      "  warnings.warn(\n",
      "/opt/conda/lib/python3.10/site-packages/librosa/core/spectrum.py:257: UserWarning: n_fft=2048 is too large for input signal of length=306\n",
      "  warnings.warn(\n",
      "/opt/conda/lib/python3.10/site-packages/librosa/core/spectrum.py:257: UserWarning: n_fft=2048 is too large for input signal of length=233\n",
      "  warnings.warn(\n",
      "/opt/conda/lib/python3.10/site-packages/librosa/core/spectrum.py:257: UserWarning: n_fft=2048 is too large for input signal of length=650\n",
      "  warnings.warn(\n",
      "/opt/conda/lib/python3.10/site-packages/librosa/core/spectrum.py:257: UserWarning: n_fft=2048 is too large for input signal of length=501\n",
      "  warnings.warn(\n",
      "/opt/conda/lib/python3.10/site-packages/librosa/core/spectrum.py:257: UserWarning: n_fft=2048 is too large for input signal of length=1570\n",
      "  warnings.warn(\n",
      "/opt/conda/lib/python3.10/site-packages/librosa/core/spectrum.py:257: UserWarning: n_fft=2048 is too large for input signal of length=1408\n",
      "  warnings.warn(\n",
      "/opt/conda/lib/python3.10/site-packages/librosa/core/spectrum.py:257: UserWarning: n_fft=2048 is too large for input signal of length=1490\n",
      "  warnings.warn(\n",
      "/opt/conda/lib/python3.10/site-packages/librosa/core/spectrum.py:257: UserWarning: n_fft=2048 is too large for input signal of length=1510\n",
      "  warnings.warn(\n",
      "/opt/conda/lib/python3.10/site-packages/librosa/core/spectrum.py:257: UserWarning: n_fft=2048 is too large for input signal of length=469\n",
      "  warnings.warn(\n",
      "/opt/conda/lib/python3.10/site-packages/librosa/core/spectrum.py:257: UserWarning: n_fft=2048 is too large for input signal of length=1434\n",
      "  warnings.warn(\n",
      "/opt/conda/lib/python3.10/site-packages/librosa/core/spectrum.py:257: UserWarning: n_fft=2048 is too large for input signal of length=1550\n",
      "  warnings.warn(\n",
      "/opt/conda/lib/python3.10/site-packages/librosa/core/spectrum.py:257: UserWarning: n_fft=2048 is too large for input signal of length=178\n",
      "  warnings.warn(\n",
      "/opt/conda/lib/python3.10/site-packages/librosa/core/spectrum.py:257: UserWarning: n_fft=2048 is too large for input signal of length=1505\n",
      "  warnings.warn(\n",
      "/opt/conda/lib/python3.10/site-packages/librosa/core/spectrum.py:257: UserWarning: n_fft=2048 is too large for input signal of length=454\n",
      "  warnings.warn(\n",
      "/opt/conda/lib/python3.10/site-packages/librosa/core/spectrum.py:257: UserWarning: n_fft=2048 is too large for input signal of length=448\n",
      "  warnings.warn(\n",
      "/opt/conda/lib/python3.10/site-packages/librosa/core/spectrum.py:257: UserWarning: n_fft=2048 is too large for input signal of length=1450\n",
      "  warnings.warn(\n",
      "/opt/conda/lib/python3.10/site-packages/librosa/core/spectrum.py:257: UserWarning: n_fft=2048 is too large for input signal of length=603\n",
      "  warnings.warn(\n",
      "/opt/conda/lib/python3.10/site-packages/librosa/core/spectrum.py:257: UserWarning: n_fft=2048 is too large for input signal of length=589\n",
      "  warnings.warn(\n",
      "/opt/conda/lib/python3.10/site-packages/librosa/core/spectrum.py:257: UserWarning: n_fft=2048 is too large for input signal of length=1464\n",
      "  warnings.warn(\n",
      "/opt/conda/lib/python3.10/site-packages/librosa/core/spectrum.py:257: UserWarning: n_fft=2048 is too large for input signal of length=1591\n",
      "  warnings.warn(\n",
      "/opt/conda/lib/python3.10/site-packages/librosa/core/spectrum.py:257: UserWarning: n_fft=2048 is too large for input signal of length=1465\n",
      "  warnings.warn(\n",
      "/opt/conda/lib/python3.10/site-packages/librosa/core/spectrum.py:257: UserWarning: n_fft=2048 is too large for input signal of length=568\n",
      "  warnings.warn(\n",
      "/opt/conda/lib/python3.10/site-packages/librosa/core/spectrum.py:257: UserWarning: n_fft=2048 is too large for input signal of length=1529\n",
      "  warnings.warn(\n",
      "/opt/conda/lib/python3.10/site-packages/librosa/core/spectrum.py:257: UserWarning: n_fft=2048 is too large for input signal of length=521\n",
      "  warnings.warn(\n",
      "/opt/conda/lib/python3.10/site-packages/librosa/core/spectrum.py:257: UserWarning: n_fft=2048 is too large for input signal of length=1566\n",
      "  warnings.warn(\n",
      "/opt/conda/lib/python3.10/site-packages/librosa/core/spectrum.py:257: UserWarning: n_fft=2048 is too large for input signal of length=1474\n",
      "  warnings.warn(\n",
      "/opt/conda/lib/python3.10/site-packages/librosa/core/spectrum.py:257: UserWarning: n_fft=2048 is too large for input signal of length=534\n",
      "  warnings.warn(\n",
      "/opt/conda/lib/python3.10/site-packages/librosa/core/spectrum.py:257: UserWarning: n_fft=2048 is too large for input signal of length=484\n",
      "  warnings.warn(\n",
      "/opt/conda/lib/python3.10/site-packages/librosa/core/spectrum.py:257: UserWarning: n_fft=2048 is too large for input signal of length=552\n",
      "  warnings.warn(\n",
      "/opt/conda/lib/python3.10/site-packages/librosa/core/spectrum.py:257: UserWarning: n_fft=2048 is too large for input signal of length=492\n",
      "  warnings.warn(\n",
      "/opt/conda/lib/python3.10/site-packages/librosa/core/spectrum.py:257: UserWarning: n_fft=2048 is too large for input signal of length=618\n",
      "  warnings.warn(\n",
      "/opt/conda/lib/python3.10/site-packages/librosa/core/spectrum.py:257: UserWarning: n_fft=2048 is too large for input signal of length=441\n",
      "  warnings.warn(\n",
      "/opt/conda/lib/python3.10/site-packages/librosa/core/spectrum.py:257: UserWarning: n_fft=2048 is too large for input signal of length=290\n",
      "  warnings.warn(\n",
      "/opt/conda/lib/python3.10/site-packages/librosa/core/spectrum.py:257: UserWarning: n_fft=2048 is too large for input signal of length=523\n",
      "  warnings.warn(\n",
      "/opt/conda/lib/python3.10/site-packages/librosa/core/spectrum.py:257: UserWarning: n_fft=2048 is too large for input signal of length=509\n",
      "  warnings.warn(\n",
      "/opt/conda/lib/python3.10/site-packages/librosa/core/spectrum.py:257: UserWarning: n_fft=2048 is too large for input signal of length=526\n",
      "  warnings.warn(\n",
      "/opt/conda/lib/python3.10/site-packages/librosa/core/spectrum.py:257: UserWarning: n_fft=2048 is too large for input signal of length=1486\n",
      "  warnings.warn(\n",
      "/opt/conda/lib/python3.10/site-packages/librosa/core/spectrum.py:257: UserWarning: n_fft=2048 is too large for input signal of length=497\n",
      "  warnings.warn(\n",
      "/opt/conda/lib/python3.10/site-packages/librosa/core/spectrum.py:257: UserWarning: n_fft=2048 is too large for input signal of length=590\n",
      "  warnings.warn(\n",
      "/opt/conda/lib/python3.10/site-packages/librosa/core/spectrum.py:257: UserWarning: n_fft=2048 is too large for input signal of length=515\n",
      "  warnings.warn(\n",
      "/opt/conda/lib/python3.10/site-packages/librosa/core/spectrum.py:257: UserWarning: n_fft=2048 is too large for input signal of length=571\n",
      "  warnings.warn(\n",
      "/opt/conda/lib/python3.10/site-packages/librosa/core/spectrum.py:257: UserWarning: n_fft=2048 is too large for input signal of length=550\n",
      "  warnings.warn(\n"
     ]
    }
   ],
   "source": [
    "if __name__ == \"__main__\":\n",
    "    save_mfcc(DATASET_PATH, JSON_PATH, num_segments=10)"
   ]
  },
  {
   "cell_type": "code",
   "execution_count": 16,
   "id": "c23a7ac6",
   "metadata": {
    "execution": {
     "iopub.execute_input": "2024-03-01T16:47:08.596713Z",
     "iopub.status.busy": "2024-03-01T16:47:08.595701Z",
     "iopub.status.idle": "2024-03-01T16:47:08.610375Z",
     "shell.execute_reply": "2024-03-01T16:47:08.609708Z"
    },
    "papermill": {
     "duration": 0.030072,
     "end_time": "2024-03-01T16:47:08.612234",
     "exception": false,
     "start_time": "2024-03-01T16:47:08.582162",
     "status": "completed"
    },
    "tags": []
   },
   "outputs": [],
   "source": [
    "\n",
    "\n",
    "DATA_PATH = \"/kaggle/working/data.json\"\n",
    "\n",
    "\n",
    "def load_data(data_path):\n",
    "\n",
    "    with open(data_path, \"r\") as fp:\n",
    "        data = json.load(fp)\n",
    "\n",
    "    X = np.array(data[\"mfcc\"])\n",
    "    y = np.array(data[\"labels\"])\n",
    "    return X, y\n",
    "\n",
    "def prepare_datasets(test_size, validation_size):\n",
    "\n",
    "    \n",
    "    X, y = load_data(DATA_PATH)\n",
    "\n",
    "    \n",
    "    X_train, X_test, y_train, y_test = train_test_split(X, y, test_size=test_size)\n",
    "    X_train, X_validation, y_train, y_validation = train_test_split(X_train, y_train, test_size=validation_size)\n",
    "\n",
    "    \n",
    "    X_train = X_train[..., np.newaxis]\n",
    "    X_validation = X_validation[..., np.newaxis]\n",
    "    X_test = X_test[..., np.newaxis]\n",
    "\n",
    "    return X_train, X_validation, X_test, y_train, y_validation, y_test\n",
    "\n",
    "\n",
    "def build_model(input_shape):\n",
    "\n",
    "    \n",
    "    model = keras.Sequential()\n",
    "\n",
    "    # 1st conv layer\n",
    "    model.add(keras.layers.Conv2D(32, (3, 3), activation='relu', input_shape=input_shape))\n",
    "    model.add(keras.layers.MaxPooling2D((3, 3), strides=(2, 2), padding='same'))\n",
    "    model.add(keras.layers.BatchNormalization())\n",
    "\n",
    "    # 2nd conv layer\n",
    "    model.add(keras.layers.Conv2D(32, (3, 3), activation='relu'))\n",
    "    model.add(keras.layers.MaxPooling2D((3, 3), strides=(2, 2), padding='same'))\n",
    "    model.add(keras.layers.BatchNormalization())\n",
    "\n",
    "    # 3rd conv layer\n",
    "    model.add(keras.layers.Conv2D(32, (2, 2), activation='relu'))\n",
    "    model.add(keras.layers.MaxPooling2D((2, 2), strides=(2, 2), padding='same'))\n",
    "    model.add(keras.layers.BatchNormalization())\n",
    "\n",
    "    \n",
    "    model.add(keras.layers.Flatten())\n",
    "    model.add(keras.layers.Dense(64, activation='relu'))\n",
    "    model.add(keras.layers.Dropout(0.3))\n",
    "\n",
    "    # output layer\n",
    "    model.add(keras.layers.Dense(2, activation='softmax'))\n",
    "\n",
    "    return model\n",
    "\n",
    "\n",
    "def predict(model, X, y):\n",
    "\n",
    "    \n",
    "    X = X[np.newaxis, ...] # array shape (1, 130, 13, 1)\n",
    "\n",
    "    \n",
    "    prediction = model.predict(X)\n",
    "\n",
    "    \n",
    "    predicted_index = np.argmax(prediction, axis=1)\n",
    "\n",
    "    print(\"Target: {}, Predicted label: {}\".format(y, predicted_index))\n"
   ]
  },
  {
   "cell_type": "code",
   "execution_count": 17,
   "id": "ae5fe9b1",
   "metadata": {
    "execution": {
     "iopub.execute_input": "2024-03-01T16:47:08.638539Z",
     "iopub.status.busy": "2024-03-01T16:47:08.638244Z",
     "iopub.status.idle": "2024-03-01T16:47:23.167027Z",
     "shell.execute_reply": "2024-03-01T16:47:23.165969Z"
    },
    "papermill": {
     "duration": 14.544506,
     "end_time": "2024-03-01T16:47:23.168972",
     "exception": false,
     "start_time": "2024-03-01T16:47:08.624466",
     "status": "completed"
    },
    "tags": []
   },
   "outputs": [
    {
     "name": "stdout",
     "output_type": "stream",
     "text": [
      "Model: \"sequential\"\n",
      "_________________________________________________________________\n",
      " Layer (type)                Output Shape              Param #   \n",
      "=================================================================\n",
      " conv2d (Conv2D)             (None, 128, 11, 32)       320       \n",
      "                                                                 \n",
      " max_pooling2d (MaxPooling2  (None, 64, 6, 32)         0         \n",
      " D)                                                              \n",
      "                                                                 \n",
      " batch_normalization (Batch  (None, 64, 6, 32)         128       \n",
      " Normalization)                                                  \n",
      "                                                                 \n",
      " conv2d_1 (Conv2D)           (None, 62, 4, 32)         9248      \n",
      "                                                                 \n",
      " max_pooling2d_1 (MaxPoolin  (None, 31, 2, 32)         0         \n",
      " g2D)                                                            \n",
      "                                                                 \n",
      " batch_normalization_1 (Bat  (None, 31, 2, 32)         128       \n",
      " chNormalization)                                                \n",
      "                                                                 \n",
      " conv2d_2 (Conv2D)           (None, 30, 1, 32)         4128      \n",
      "                                                                 \n",
      " max_pooling2d_2 (MaxPoolin  (None, 15, 1, 32)         0         \n",
      " g2D)                                                            \n",
      "                                                                 \n",
      " batch_normalization_2 (Bat  (None, 15, 1, 32)         128       \n",
      " chNormalization)                                                \n",
      "                                                                 \n",
      " flatten (Flatten)           (None, 480)               0         \n",
      "                                                                 \n",
      " dense (Dense)               (None, 64)                30784     \n",
      "                                                                 \n",
      " dropout (Dropout)           (None, 64)                0         \n",
      "                                                                 \n",
      " dense_1 (Dense)             (None, 2)                 130       \n",
      "                                                                 \n",
      "=================================================================\n",
      "Total params: 44994 (175.76 KB)\n",
      "Trainable params: 44802 (175.01 KB)\n",
      "Non-trainable params: 192 (768.00 Byte)\n",
      "_________________________________________________________________\n",
      "Epoch 1/30\n",
      "24/24 [==============================] - 6s 32ms/step - loss: 0.8739 - accuracy: 0.5363 - val_loss: 0.7173 - val_accuracy: 0.5829\n",
      "Epoch 2/30\n",
      "24/24 [==============================] - 0s 6ms/step - loss: 0.6558 - accuracy: 0.6640 - val_loss: 0.7114 - val_accuracy: 0.5615\n",
      "Epoch 3/30\n",
      "24/24 [==============================] - 0s 6ms/step - loss: 0.5203 - accuracy: 0.7594 - val_loss: 0.6593 - val_accuracy: 0.5882\n",
      "Epoch 4/30\n",
      "24/24 [==============================] - 0s 6ms/step - loss: 0.4348 - accuracy: 0.8078 - val_loss: 0.6580 - val_accuracy: 0.5615\n",
      "Epoch 5/30\n",
      "24/24 [==============================] - 0s 6ms/step - loss: 0.3895 - accuracy: 0.8333 - val_loss: 0.6107 - val_accuracy: 0.5989\n",
      "Epoch 6/30\n",
      "24/24 [==============================] - 0s 6ms/step - loss: 0.3595 - accuracy: 0.8401 - val_loss: 0.5724 - val_accuracy: 0.6578\n",
      "Epoch 7/30\n",
      "24/24 [==============================] - 0s 6ms/step - loss: 0.3296 - accuracy: 0.8669 - val_loss: 0.5467 - val_accuracy: 0.6845\n",
      "Epoch 8/30\n",
      "24/24 [==============================] - 0s 6ms/step - loss: 0.3213 - accuracy: 0.8616 - val_loss: 0.5052 - val_accuracy: 0.7326\n",
      "Epoch 9/30\n",
      "24/24 [==============================] - 0s 7ms/step - loss: 0.2764 - accuracy: 0.8965 - val_loss: 0.4409 - val_accuracy: 0.7861\n",
      "Epoch 10/30\n",
      "24/24 [==============================] - 0s 6ms/step - loss: 0.2578 - accuracy: 0.8992 - val_loss: 0.4250 - val_accuracy: 0.8021\n",
      "Epoch 11/30\n",
      "24/24 [==============================] - 0s 6ms/step - loss: 0.2464 - accuracy: 0.8992 - val_loss: 0.3887 - val_accuracy: 0.8182\n",
      "Epoch 12/30\n",
      "24/24 [==============================] - 0s 6ms/step - loss: 0.2372 - accuracy: 0.9140 - val_loss: 0.3662 - val_accuracy: 0.8289\n",
      "Epoch 13/30\n",
      "24/24 [==============================] - 0s 6ms/step - loss: 0.2338 - accuracy: 0.9113 - val_loss: 0.3430 - val_accuracy: 0.8342\n",
      "Epoch 14/30\n",
      "24/24 [==============================] - 0s 6ms/step - loss: 0.2008 - accuracy: 0.9288 - val_loss: 0.3376 - val_accuracy: 0.8342\n",
      "Epoch 15/30\n",
      "24/24 [==============================] - 0s 6ms/step - loss: 0.1951 - accuracy: 0.9288 - val_loss: 0.3201 - val_accuracy: 0.8503\n",
      "Epoch 16/30\n",
      "24/24 [==============================] - 0s 6ms/step - loss: 0.2015 - accuracy: 0.9167 - val_loss: 0.3052 - val_accuracy: 0.8610\n",
      "Epoch 17/30\n",
      "24/24 [==============================] - 0s 7ms/step - loss: 0.1649 - accuracy: 0.9449 - val_loss: 0.3049 - val_accuracy: 0.8610\n",
      "Epoch 18/30\n",
      "24/24 [==============================] - 0s 6ms/step - loss: 0.1635 - accuracy: 0.9503 - val_loss: 0.2975 - val_accuracy: 0.8610\n",
      "Epoch 19/30\n",
      "24/24 [==============================] - 0s 6ms/step - loss: 0.1624 - accuracy: 0.9503 - val_loss: 0.2936 - val_accuracy: 0.8663\n",
      "Epoch 20/30\n",
      "24/24 [==============================] - 0s 6ms/step - loss: 0.1437 - accuracy: 0.9543 - val_loss: 0.2886 - val_accuracy: 0.8717\n",
      "Epoch 21/30\n",
      "24/24 [==============================] - 0s 6ms/step - loss: 0.1455 - accuracy: 0.9489 - val_loss: 0.2830 - val_accuracy: 0.8717\n",
      "Epoch 22/30\n",
      "24/24 [==============================] - 0s 6ms/step - loss: 0.1370 - accuracy: 0.9597 - val_loss: 0.2825 - val_accuracy: 0.8663\n",
      "Epoch 23/30\n",
      "24/24 [==============================] - 0s 6ms/step - loss: 0.1258 - accuracy: 0.9637 - val_loss: 0.2877 - val_accuracy: 0.8770\n",
      "Epoch 24/30\n",
      "24/24 [==============================] - 0s 7ms/step - loss: 0.1186 - accuracy: 0.9637 - val_loss: 0.2786 - val_accuracy: 0.8770\n",
      "Epoch 25/30\n",
      "24/24 [==============================] - 0s 7ms/step - loss: 0.1112 - accuracy: 0.9772 - val_loss: 0.2805 - val_accuracy: 0.8824\n",
      "Epoch 26/30\n",
      "24/24 [==============================] - 0s 6ms/step - loss: 0.1052 - accuracy: 0.9718 - val_loss: 0.2778 - val_accuracy: 0.8824\n",
      "Epoch 27/30\n",
      "24/24 [==============================] - 0s 6ms/step - loss: 0.0950 - accuracy: 0.9812 - val_loss: 0.2635 - val_accuracy: 0.8877\n",
      "Epoch 28/30\n",
      "24/24 [==============================] - 0s 6ms/step - loss: 0.0967 - accuracy: 0.9718 - val_loss: 0.2690 - val_accuracy: 0.8770\n",
      "Epoch 29/30\n",
      "24/24 [==============================] - 0s 6ms/step - loss: 0.0947 - accuracy: 0.9785 - val_loss: 0.2632 - val_accuracy: 0.8824\n",
      "Epoch 30/30\n",
      "24/24 [==============================] - 0s 6ms/step - loss: 0.0823 - accuracy: 0.9839 - val_loss: 0.2584 - val_accuracy: 0.8930\n",
      "10/10 - 0s - loss: 0.2357 - accuracy: 0.9035 - 146ms/epoch - 15ms/step\n",
      "\n",
      "Test accuracy: 0.9035369753837585\n"
     ]
    }
   ],
   "source": [
    "if __name__ == \"__main__\":\n",
    "\n",
    "    \n",
    "    X_train, X_validation, X_test, y_train, y_validation, y_test = prepare_datasets(0.25, 0.2)\n",
    "\n",
    "    \n",
    "    \n",
    "    input_shape = (130, 13, 1)\n",
    "    model = build_model(input_shape)\n",
    "\n",
    "    \n",
    "    optimiser = keras.optimizers.Adam(learning_rate=0.0001)\n",
    "    early_stopping = keras.callbacks.EarlyStopping(\n",
    "            monitor='val_loss', \n",
    "            verbose=1,\n",
    "            patience=5,\n",
    "            mode='min',\n",
    "            restore_best_weights=True,\n",
    "        )\n",
    "    model.compile(optimizer=optimiser,\n",
    "                  loss='sparse_categorical_crossentropy',\n",
    "                  metrics=['accuracy'])\n",
    "\n",
    "    model.summary()\n",
    "\n",
    "    # train model\n",
    "    history = model.fit(X_train, y_train, validation_data=(X_validation, y_validation), batch_size=32, epochs=30,callbacks=[early_stopping],\n",
    ")\n",
    "\n",
    "    # evaluate model on test set\n",
    "    test_loss, test_acc = model.evaluate(X_test, y_test, verbose=2)\n",
    "    print('\\nTest accuracy:', test_acc)"
   ]
  },
  {
   "cell_type": "code",
   "execution_count": 18,
   "id": "34bc58bf",
   "metadata": {
    "execution": {
     "iopub.execute_input": "2024-03-01T16:47:23.225801Z",
     "iopub.status.busy": "2024-03-01T16:47:23.225436Z",
     "iopub.status.idle": "2024-03-01T16:47:24.363259Z",
     "shell.execute_reply": "2024-03-01T16:47:24.362336Z"
    },
    "papermill": {
     "duration": 1.169476,
     "end_time": "2024-03-01T16:47:24.366142",
     "exception": false,
     "start_time": "2024-03-01T16:47:23.196666",
     "status": "completed"
    },
    "tags": []
   },
   "outputs": [
    {
     "name": "stdout",
     "output_type": "stream",
     "text": [
      "10/10 [==============================] - 0s 2ms/step\n",
      "              precision    recall  f1-score   support\n",
      "\n",
      "           0       0.90      0.90      0.90       153\n",
      "           1       0.91      0.91      0.91       158\n",
      "\n",
      "    accuracy                           0.90       311\n",
      "   macro avg       0.90      0.90      0.90       311\n",
      "weighted avg       0.90      0.90      0.90       311\n",
      "\n",
      "24/24 [==============================] - 0s 3ms/step - loss: 0.0539 - accuracy: 0.9960\n"
     ]
    },
    {
     "data": {
      "image/png": "[encoded data removed]",
      "text/plain": [
       "<Figure size 1500x500 with 3 Axes>"
      ]
     },
     "metadata": {},
     "output_type": "display_data"
    }
   ],
   "source": [
    "y_pred = model.predict(X_test)\n",
    "y_pred = np.argmax(y_pred, axis=1)\n",
    "\n",
    "import matplotlib.pyplot as plt\n",
    "from sklearn.metrics import confusion_matrix, ConfusionMatrixDisplay\n",
    "import numpy as np\n",
    "from sklearn.metrics import classification_report\n",
    "\n",
    "fig, axs = plt.subplots(1, 3, figsize=(15, 5))  # 1 row, 3 columns for accuracy, loss, and confusion matrix\n",
    "\n",
    "# Plot accuracy\n",
    "axs[0].plot(history.history[\"accuracy\"], label=\"Train\")\n",
    "axs[0].plot(history.history[\"val_accuracy\"], label=\"Test\")\n",
    "axs[0].set_ylabel(\"Accuracy\",fontsize=14)\n",
    "axs[0].set_xlabel(\"Number of Epochs\",fontsize=14)\n",
    "axs[0].legend(loc=\"lower right\",fontsize=12)\n",
    "axs[0].set_title(\"Model Accuracy\", fontsize=16)\n",
    "\n",
    "# Plot loss\n",
    "axs[1].plot(history.history[\"loss\"], label=\"Train\")\n",
    "axs[1].plot(history.history[\"val_loss\"], label=\"Test\")\n",
    "axs[1].set_ylabel(\"Loss\", fontsize=14)\n",
    "axs[1].set_xlabel(\"Number of Epochs\",fontsize=14)\n",
    "axs[1].legend(loc=\"upper right\", fontsize=12)\n",
    "axs[1].set_title(\"Model Loss\", fontsize=16)\n",
    "\n",
    "# Plot confusion matrix\n",
    "classification_rep = classification_report(y_test, y_pred)\n",
    "print(classification_rep)\n",
    "loss = model.evaluate(X_train, y_train)\n",
    "cf_matrix = confusion_matrix(y_test, y_pred)\n",
    "disp = ConfusionMatrixDisplay(confusion_matrix=cf_matrix, display_labels=['Fake', 'Real'])\n",
    "disp.plot(ax=axs[2], cmap='Purples')\n",
    "disp.ax_.set_title('Confusion Mtarix', fontsize=16, fontweight='medium')\n",
    "disp.im_.colorbar.remove()\n",
    "disp.ax_.set_xlabel('Predicted label', fontsize=14)\n",
    "disp.ax_.set_ylabel('True label', fontsize=14)\n",
    "disp.ax_.set_xticklabels(['Fake', 'Real'], fontsize=12)\n",
    "disp.ax_.set_yticklabels(['Fake', 'Real'], fontsize=12)\n",
    "plt.tight_layout()  # Adjust layout to prevent overlapping\n",
    "plt.show()\n"
   ]
  },
  {
   "cell_type": "code",
   "execution_count": 19,
   "id": "22485312",
   "metadata": {
    "execution": {
     "iopub.execute_input": "2024-03-01T16:47:24.471564Z",
     "iopub.status.busy": "2024-03-01T16:47:24.470733Z",
     "iopub.status.idle": "2024-03-01T16:47:24.531300Z",
     "shell.execute_reply": "2024-03-01T16:47:24.530343Z"
    },
    "papermill": {
     "duration": 0.091632,
     "end_time": "2024-03-01T16:47:24.533475",
     "exception": false,
     "start_time": "2024-03-01T16:47:24.441843",
     "status": "completed"
    },
    "tags": []
   },
   "outputs": [
    {
     "name": "stderr",
     "output_type": "stream",
     "text": [
      "/opt/conda/lib/python3.10/site-packages/keras/src/engine/training.py:3000: UserWarning: You are saving your model as an HDF5 file via `model.save()`. This file format is considered legacy. We recommend using instead the native Keras format, e.g. `model.save('my_model.keras')`.\n",
      "  saving_api.save_model(\n"
     ]
    }
   ],
   "source": [
    "# Modeli kaydet\n",
    "model.save(\"/kaggle/working/cnn_audio.h5\")"
   ]
  },
  {
   "cell_type": "code",
   "execution_count": 20,
   "id": "5063f8d6",
   "metadata": {
    "execution": {
     "iopub.execute_input": "2024-03-01T16:47:24.591062Z",
     "iopub.status.busy": "2024-03-01T16:47:24.590336Z",
     "iopub.status.idle": "2024-03-01T16:47:24.595413Z",
     "shell.execute_reply": "2024-03-01T16:47:24.594710Z"
    },
    "papermill": {
     "duration": 0.035628,
     "end_time": "2024-03-01T16:47:24.597349",
     "exception": false,
     "start_time": "2024-03-01T16:47:24.561721",
     "status": "completed"
    },
    "tags": []
   },
   "outputs": [],
   "source": [
    "from tensorflow.keras.models import load_model\n",
    "import tensorflow as tf"
   ]
  },
  {
   "cell_type": "code",
   "execution_count": 21,
   "id": "276bd6e0",
   "metadata": {
    "execution": {
     "iopub.execute_input": "2024-03-01T16:47:24.656478Z",
     "iopub.status.busy": "2024-03-01T16:47:24.656203Z",
     "iopub.status.idle": "2024-03-01T16:47:25.208564Z",
     "shell.execute_reply": "2024-03-01T16:47:25.207363Z"
    },
    "papermill": {
     "duration": 0.584067,
     "end_time": "2024-03-01T16:47:25.210830",
     "exception": false,
     "start_time": "2024-03-01T16:47:24.626763",
     "status": "completed"
    },
    "tags": []
   },
   "outputs": [
    {
     "name": "stdout",
     "output_type": "stream",
     "text": [
      "1/1 [==============================] - 0s 226ms/step\n",
      "Raw prediction: [[0.00517772 0.99482226]]\n",
      "Predicted label: bonafide\n"
     ]
    }
   ],
   "source": [
    "def predict_voice(model, audio_file_path, genre_mapping):\n",
    "\n",
    "    \n",
    "    signal, sample_rate = librosa.load(audio_file_path, sr=22050)\n",
    "\n",
    "    \n",
    "    mfcc = librosa.feature.mfcc(y=signal, sr=sample_rate, n_mfcc=13, n_fft=2048, hop_length=512)\n",
    "    mfcc = mfcc.T\n",
    "\n",
    "    # MFCC'leri uygun boyuta getir\n",
    "    mfcc = np.resize(mfcc, (130, 13, 1))\n",
    "\n",
    "    # Reshape MFCC'leri uygun boyuta gwtir\n",
    "    mfcc = mfcc[np.newaxis, ...]\n",
    "\n",
    "   \n",
    "    prediction = model.predict(mfcc)\n",
    "    predicted_index = np.argmax(prediction, axis=1)\n",
    "\n",
    "    \n",
    "    genre_label = genre_mapping[predicted_index[0]]\n",
    "    print(\"Raw prediction:\", prediction)\n",
    "\n",
    "    return genre_label\n",
    "\n",
    "\n",
    "model_path = \"/kaggle/input/audio-for-lstm/cnn_audio.h5\"\n",
    "model = load_model(model_path)\n",
    "\n",
    "\n",
    "audio_file_path = \"/kaggle/input/asvpoof-2019-dataset/LA/LA/ASVspoof2019_LA_train/flac/LA_T_1272637.flac\"\n",
    "\n",
    "genre_mapping = {0: \"spoof\", 1: \"bonafide\"}\n",
    "\n",
    "\n",
    "predicted_voice = predict_voice(model, audio_file_path, genre_mapping)\n",
    "\n",
    "print(\"Predicted label:\", predicted_voice)\n"
   ]
  }
 ],
 "metadata": {
  "kaggle": {
   "accelerator": "nvidiaTeslaT4",
   "dataSources": [
    {
     "datasetId": 2286778,
     "sourceId": 3842332,
     "sourceType": "datasetVersion"
    },
    {
     "datasetId": 4361404,
     "sourceId": 7490970,
     "sourceType": "datasetVersion"
    }
   ],
   "dockerImageVersionId": 30636,
   "isGpuEnabled": true,
   "isInternetEnabled": true,
   "language": "python",
   "sourceType": "notebook"
  },
  "kernelspec": {
   "display_name": "Python 3",
   "language": "python",
   "name": "python3"
  },
  "language_info": {
   "codemirror_mode": {
    "name": "ipython",
    "version": 3
   },
   "file_extension": ".py",
   "mimetype": "text/x-python",
   "name": "python",
   "nbconvert_exporter": "python",
   "pygments_lexer": "ipython3",
   "version": "3.10.12"
  },
  "papermill": {
   "default_parameters": {},
   "duration": 502.957516,
   "end_time": "2024-03-01T16:47:28.946774",
   "environment_variables": {},
   "exception": null,
   "input_path": "__notebook__.ipynb",
   "output_path": "__notebook__.ipynb",
   "parameters": {},
   "start_time": "2024-03-01T16:39:05.989258",
   "version": "2.4.0"
  }
 },
 "nbformat": 4,
 "nbformat_minor": 5
}
